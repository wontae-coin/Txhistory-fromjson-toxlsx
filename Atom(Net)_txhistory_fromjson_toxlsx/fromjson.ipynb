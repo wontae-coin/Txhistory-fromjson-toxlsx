{
 "cells": [
  {
   "cell_type": "code",
   "execution_count": 4,
   "metadata": {},
   "outputs": [],
   "source": [
    "import requests\n",
    "import pandas as pd\n",
    "from datetime import datetime"
   ]
  },
  {
   "cell_type": "code",
   "execution_count": 5,
   "metadata": {},
   "outputs": [],
   "source": [
    "target_account = \"cosmos152fyy23gpnxamgn4u6jqmjfnfq344cyen8xjjs\""
   ]
  },
  {
   "cell_type": "code",
   "execution_count": 6,
   "metadata": {},
   "outputs": [],
   "source": [
    "\n",
    "df = pd.DataFrame(columns=['time','tx_hash','tx_type',\n",
    "'coin','token_type','amount','from_address','to_address'])"
   ]
  },
  {
   "cell_type": "code",
   "execution_count": 53,
   "metadata": {},
   "outputs": [],
   "source": [
    "#https://atomscan.com/accounts/cosmos152fyy23gpnxamgn4u6jqmjfnfq344cyen8xjjs \n",
    "#영원히 안녕...\n",
    "\n",
    "send_url = f\"https://cosmos.lcd.atomscan.com/cosmos/tx/v1beta1/txs?pagination.limit=20&pagination.offset=0&orderBy=ORDER_BY_DESC&events=transfer.sender%3D%27{target_account}%27\"\n",
    "send_res = requests.get(send_url)\n",
    "send_json_data = send_res.json()\n",
    "\n",
    "# sender reciever가 둘 다 나와서, 시간으로 하나봐요\n",
    "# https://cosmos.lcd.atomscan.com/cosmos/tx/v1beta1/txs?pagination.limit=10&pagination.offset=0&orderBy=ORDER_BY_DESC&events=transfer.sender%3D%27cosmos152fyy23gpnxamgn4u6jqmjfnfq344cyen8xjjs%27\n",
    "# https://cosmos.lcd.atomscan.com/cosmos/tx/v1beta1/txs?pagination.limit=10&pagination.offset=0&orderBy=ORDER_BY_DESC&events=transfer.recipient%3D%27cosmos152fyy23gpnxamgn4u6jqmjfnfq344cyen8xjjs%27"
   ]
  },
  {
   "cell_type": "code",
   "execution_count": 58,
   "metadata": {},
   "outputs": [
    {
     "name": "stdout",
     "output_type": "stream",
     "text": [
      "{'body': {'messages': [{'@type': '/cosmos.bank.v1beta1.MsgSend', 'from_address': 'cosmos152fyy23gpnxamgn4u6jqmjfnfq344cyen8xjjs', 'to_address': 'cosmos1j8pp7zvcu9z8vd882m284j29fn2dszh05cqvf9', 'amount': [{'denom': 'uatom', 'amount': '141627306'}]}], 'memo': '101804568', 'timeout_height': '0', 'extension_options': [], 'non_critical_extension_options': []}, 'auth_info': {'signer_infos': [{'public_key': {'@type': '/cosmos.crypto.secp256k1.PubKey', 'key': 'A7II3RdLG4dc3BTM13VSnlfoa6C5IzADYNNdjes/5ZEQ'}, 'mode_info': {'single': {'mode': 'SIGN_MODE_LEGACY_AMINO_JSON'}}, 'sequence': '14'}], 'fee': {'amount': [{'denom': 'uatom', 'amount': '2000'}], 'gas_limit': '80000', 'payer': '', 'granter': ''}}, 'signatures': ['YbWzs+AqRzV6So21haPNgRA7kpqpyvbEs5/VLGTCGV1ic/cre2oF8HHL0Lbi8mo/m0kLSq1CvElouCP3e44dyQ==']}\n"
     ]
    }
   ],
   "source": [
    "# print(json_data.keys())\n",
    "# total은 limit에 관련 없이 전체 15개를 말합니다\n",
    "num_of_total_send_tx = int(send_json_data['pagination']['total'])\n",
    "send_txs = send_json_data['txs']\n",
    "len(send_txs)\n",
    "print(send_txs[0])"
   ]
  },
  {
   "cell_type": "code",
   "execution_count": null,
   "metadata": {},
   "outputs": [],
   "source": [
    "# 끝이 0일때까지 request를 보내다가 안되면 취소\n",
    "# limit은 20으로 고정, offset을 변화시키면서?"
   ]
  },
  {
   "cell_type": "code",
   "execution_count": 59,
   "metadata": {},
   "outputs": [
    {
     "data": {
      "text/plain": [
       "1"
      ]
     },
     "execution_count": 59,
     "metadata": {},
     "output_type": "execute_result"
    }
   ],
   "source": [
    "number_of_iter = ( num_of_total_send_tx // 20 ) + 1\n",
    "number_of_iter"
   ]
  },
  {
   "cell_type": "code",
   "execution_count": 210,
   "metadata": {},
   "outputs": [],
   "source": [
    "\n",
    "for tx in send_txs:\n",
    "    tx_time_stamp = datetime.fromtimestamp(tx['timestamp']/1000)\n",
    "    tx_hash = tx['hash']\n",
    "    tx_result = tx['result']\n",
    "    if tx_result != 'SUCCESS':\n",
    "        continue\n",
    "    tx_coin = tx['tokenInfo']['tokenName']\n",
    "    tx_token_decimal = tx['tokenInfo']['tokenDecimal']\n",
    "    tx_amount = int(tx['amount']) / tx_token_decimal\n",
    "    tx_from_address = tx['ownerAddress']\n",
    "    tx_to_address = tx['toAddress']\n",
    "    tx_token_type = tx['tokenType']\n",
    "    try:\n",
    "        tx_type = tx['trigger_info']['methodName']\n",
    "    except:\n",
    "        tx_type = \"Transfer TRX\"\n",
    "    df = pd.concat([df, pd.DataFrame([[tx_time_stamp, tx_hash,tx_type, \n",
    "    tx_coin, tx_token_type,tx_amount,tx_from_address ,\n",
    "    tx_to_address]], \n",
    "    columns=['time','tx_hash','tx_type',\n",
    "'coin','token_type','amount','from_address','to_address'])])\n",
    "    \n",
    "\n"
   ]
  },
  {
   "cell_type": "code",
   "execution_count": 212,
   "metadata": {},
   "outputs": [
    {
     "name": "stdout",
     "output_type": "stream",
     "text": [
      "https://apilist.tronscan.org/api/transaction?sort=-timestamp&count=true&limit=20&start=20&address=TKqUVHFV4ayYZR138m2BiVPktn9XZXLZ7W\n",
      "https://apilist.tronscan.org/api/transaction?sort=-timestamp&count=true&limit=20&start=40&address=TKqUVHFV4ayYZR138m2BiVPktn9XZXLZ7W\n",
      "https://apilist.tronscan.org/api/transaction?sort=-timestamp&count=true&limit=20&start=60&address=TKqUVHFV4ayYZR138m2BiVPktn9XZXLZ7W\n",
      "https://apilist.tronscan.org/api/transaction?sort=-timestamp&count=true&limit=20&start=80&address=TKqUVHFV4ayYZR138m2BiVPktn9XZXLZ7W\n"
     ]
    }
   ],
   "source": [
    "for i in range(1, number_of_iter):\n",
    "\n",
    "    start = 20 * i\n",
    "    \n",
    "    url = f\"https://apilist.tronscan.org/api/transaction?sort=-timestamp&count=true&limit=20&start={start}&address={target_account}\"\n",
    "    res = requests.get(url)\n",
    "    json_data = res.json()\n",
    "    # tx를 안받아왔다\n",
    "    txs = json_data['data']\n",
    "    for tx in txs:\n",
    "        tx_time_stamp = datetime.fromtimestamp(tx['timestamp']/1000)\n",
    "        tx_hash = tx['hash']\n",
    "        tx_result = tx['result']\n",
    "        if tx_result != 'SUCCESS':\n",
    "            continue\n",
    "        tx_coin = tx['tokenInfo']['tokenName']\n",
    "        tx_token_decimal = tx['tokenInfo']['tokenDecimal']\n",
    "        tx_amount = int(tx['amount']) / tx_token_decimal\n",
    "        tx_from_address = tx['ownerAddress']\n",
    "        tx_to_address = tx['toAddress']\n",
    "        tx_token_type = tx['tokenType']\n",
    "        try:\n",
    "            tx_type = tx['trigger_info']['methodName']\n",
    "        except:\n",
    "            tx_type = \"Transfer TRX\"\n",
    "        # df를 합치는 데에서 오류가 있는 거 같다.\n",
    "        df = pd.concat([df, pd.DataFrame([[tx_time_stamp, tx_hash,tx_type, \n",
    "        tx_coin, tx_token_type,tx_amount,tx_from_address ,\n",
    "        tx_to_address]], \n",
    "        columns=['time','tx_hash','tx_type',\n",
    "    'coin','token_type','amount','from_address','to_address'])])\n",
    "    # 뭐가 틀렸을까...?    \n",
    "\n",
    "\n",
    "    \n"
   ]
  },
  {
   "cell_type": "code",
   "execution_count": 216,
   "metadata": {},
   "outputs": [],
   "source": [
    "file_name =  F'트론 입출금 {target_account}.xlsx'\n",
    "df.to_excel(file_name, index=False)\n"
   ]
  }
 ],
 "metadata": {
  "interpreter": {
   "hash": "005cc205ef23244f23bb93dd09eb438169ad370dbe429b4cc25e8bcdc924ae5c"
  },
  "kernelspec": {
   "display_name": "Python 3.8.13 ('excel')",
   "language": "python",
   "name": "python3"
  },
  "language_info": {
   "codemirror_mode": {
    "name": "ipython",
    "version": 3
   },
   "file_extension": ".py",
   "mimetype": "text/x-python",
   "name": "python",
   "nbconvert_exporter": "python",
   "pygments_lexer": "ipython3",
   "version": "3.8.13"
  },
  "orig_nbformat": 4
 },
 "nbformat": 4,
 "nbformat_minor": 2
}
