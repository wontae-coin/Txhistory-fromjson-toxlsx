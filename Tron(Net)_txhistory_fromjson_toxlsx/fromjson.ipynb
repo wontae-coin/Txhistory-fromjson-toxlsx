{
 "cells": [
  {
   "cell_type": "code",
   "execution_count": 204,
   "metadata": {},
   "outputs": [],
   "source": [
    "import requests\n",
    "import pandas as pd\n",
    "from datetime import datetime"
   ]
  },
  {
   "cell_type": "code",
   "execution_count": 205,
   "metadata": {},
   "outputs": [],
   "source": [
    "target_account = \"TKqUVHFV4ayYZR138m2BiVPktn9XZXLZ7W\"\n"
   ]
  },
  {
   "cell_type": "code",
   "execution_count": 206,
   "metadata": {},
   "outputs": [],
   "source": [
    "\n",
    "df = pd.DataFrame(columns=['time','tx_hash','tx_type',\n",
    "'coin','token_type','amount','from_address','to_address'])"
   ]
  },
  {
   "cell_type": "code",
   "execution_count": 207,
   "metadata": {},
   "outputs": [],
   "source": [
    "url = f\"https://apilist.tronscan.org/api/transaction?sort=-timestamp&count=true&limit=20&start=0&address={target_account}\"\n",
    "res = requests.get(url)\n",
    "json_data = res.json()"
   ]
  },
  {
   "cell_type": "code",
   "execution_count": 208,
   "metadata": {},
   "outputs": [],
   "source": [
    "total_num = json_data['total']\n",
    "txs = json_data['data']\n"
   ]
  },
  {
   "cell_type": "code",
   "execution_count": 209,
   "metadata": {},
   "outputs": [
    {
     "data": {
      "text/plain": [
       "5"
      ]
     },
     "execution_count": 209,
     "metadata": {},
     "output_type": "execute_result"
    }
   ],
   "source": [
    "number_of_iter = ( total_num // 20 ) + 1\n",
    "number_of_iter"
   ]
  },
  {
   "cell_type": "code",
   "execution_count": 210,
   "metadata": {},
   "outputs": [],
   "source": [
    "\n",
    "for tx in txs:\n",
    "    tx_time_stamp = datetime.fromtimestamp(tx['timestamp']/1000)\n",
    "    tx_hash = tx['hash']\n",
    "    tx_result = tx['result']\n",
    "    if tx_result != 'SUCCESS':\n",
    "        continue\n",
    "    tx_coin = tx['tokenInfo']['tokenName']\n",
    "    tx_token_decimal = tx['tokenInfo']['tokenDecimal']\n",
    "    tx_amount = int(tx['amount']) / tx_token_decimal\n",
    "    tx_from_address = tx['ownerAddress']\n",
    "    tx_to_address = tx['toAddress']\n",
    "    tx_token_type = tx['tokenType']\n",
    "    try:\n",
    "        tx_type = tx['trigger_info']['methodName']\n",
    "    except:\n",
    "        tx_type = \"Transfer TRX\"\n",
    "    df = pd.concat([df, pd.DataFrame([[tx_time_stamp, tx_hash,tx_type, \n",
    "    tx_coin, tx_token_type,tx_amount,tx_from_address ,\n",
    "    tx_to_address]], \n",
    "    columns=['time','tx_hash','tx_type',\n",
    "'coin','token_type','amount','from_address','to_address'])])\n",
    "    \n",
    "\n"
   ]
  },
  {
   "cell_type": "code",
   "execution_count": 212,
   "metadata": {},
   "outputs": [
    {
     "name": "stdout",
     "output_type": "stream",
     "text": [
      "https://apilist.tronscan.org/api/transaction?sort=-timestamp&count=true&limit=20&start=20&address=TKqUVHFV4ayYZR138m2BiVPktn9XZXLZ7W\n",
      "https://apilist.tronscan.org/api/transaction?sort=-timestamp&count=true&limit=20&start=40&address=TKqUVHFV4ayYZR138m2BiVPktn9XZXLZ7W\n",
      "https://apilist.tronscan.org/api/transaction?sort=-timestamp&count=true&limit=20&start=60&address=TKqUVHFV4ayYZR138m2BiVPktn9XZXLZ7W\n",
      "https://apilist.tronscan.org/api/transaction?sort=-timestamp&count=true&limit=20&start=80&address=TKqUVHFV4ayYZR138m2BiVPktn9XZXLZ7W\n"
     ]
    }
   ],
   "source": [
    "for i in range(1, number_of_iter):\n",
    "\n",
    "    start = 20 * i\n",
    "    \n",
    "    url = f\"https://apilist.tronscan.org/api/transaction?sort=-timestamp&count=true&limit=20&start={start}&address={target_account}\"\n",
    "    res = requests.get(url)\n",
    "    json_data = res.json()\n",
    "    # tx를 안받아왔다\n",
    "    txs = json_data['data']\n",
    "    for tx in txs:\n",
    "        tx_time_stamp = datetime.fromtimestamp(tx['timestamp']/1000)\n",
    "        tx_hash = tx['hash']\n",
    "        tx_result = tx['result']\n",
    "        if tx_result != 'SUCCESS':\n",
    "            continue\n",
    "        tx_coin = tx['tokenInfo']['tokenName']\n",
    "        tx_token_decimal = tx['tokenInfo']['tokenDecimal']\n",
    "        tx_amount = int(tx['amount']) / tx_token_decimal\n",
    "        tx_from_address = tx['ownerAddress']\n",
    "        tx_to_address = tx['toAddress']\n",
    "        tx_token_type = tx['tokenType']\n",
    "        try:\n",
    "            tx_type = tx['trigger_info']['methodName']\n",
    "        except:\n",
    "            tx_type = \"Transfer TRX\"\n",
    "        # df를 합치는 데에서 오류가 있는 거 같다.\n",
    "        df = pd.concat([df, pd.DataFrame([[tx_time_stamp, tx_hash,tx_type, \n",
    "        tx_coin, tx_token_type,tx_amount,tx_from_address ,\n",
    "        tx_to_address]], \n",
    "        columns=['time','tx_hash','tx_type',\n",
    "    'coin','token_type','amount','from_address','to_address'])])\n",
    "    # 뭐가 틀렸을까...?    \n",
    "\n",
    "\n",
    "    \n"
   ]
  },
  {
   "cell_type": "code",
   "execution_count": 216,
   "metadata": {},
   "outputs": [],
   "source": [
    "file_name =  F'트론 입출금 {target_account}.xlsx'\n",
    "df.to_excel(file_name, index=False)\n"
   ]
  }
 ],
 "metadata": {
  "interpreter": {
   "hash": "005cc205ef23244f23bb93dd09eb438169ad370dbe429b4cc25e8bcdc924ae5c"
  },
  "kernelspec": {
   "display_name": "Python 3.8.13 ('excel')",
   "language": "python",
   "name": "python3"
  },
  "language_info": {
   "codemirror_mode": {
    "name": "ipython",
    "version": 3
   },
   "file_extension": ".py",
   "mimetype": "text/x-python",
   "name": "python",
   "nbconvert_exporter": "python",
   "pygments_lexer": "ipython3",
   "version": "3.8.13"
  },
  "orig_nbformat": 4
 },
 "nbformat": 4,
 "nbformat_minor": 2
}
